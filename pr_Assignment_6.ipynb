{
 "cells": [
  {
   "cell_type": "code",
   "execution_count": 1,
   "id": "d5b9f13a",
   "metadata": {},
   "outputs": [
    {
     "name": "stdout",
     "output_type": "stream",
     "text": [
      "8\n"
     ]
    }
   ],
   "source": [
    "#1. Write a Python Program to Display Fibonacci Sequence Using Recursion?\n",
    "\n",
    "\n",
    "def fib_series(a):\n",
    "    #Base case\n",
    "    if a==0 :\n",
    "        return 0\n",
    "    if a==1:\n",
    "        return 1\n",
    "    #recursive case\n",
    "\n",
    "    return fib_series(a-1)+ fib_series(a-2) \n",
    "\n",
    "print(fib_series(6))"
   ]
  },
  {
   "cell_type": "code",
   "execution_count": 4,
   "id": "2b791b98",
   "metadata": {},
   "outputs": [
    {
     "name": "stdout",
     "output_type": "stream",
     "text": [
      "3628800\n"
     ]
    }
   ],
   "source": [
    "#2. Write a Python Program to Find Factorial of Number Using Recursion?\n",
    "\n",
    "def fact_numb(jkm):\n",
    "    if jkm==0 or jkm ==1:\n",
    "        return 1#base case\n",
    "    \n",
    "    return jkm*fact_numb(jkm-1)\n",
    "print(fact_numb(10))"
   ]
  },
  {
   "cell_type": "code",
   "execution_count": 6,
   "id": "9a673569",
   "metadata": {},
   "outputs": [
    {
     "name": "stdout",
     "output_type": "stream",
     "text": [
      "Your BMI is : 22.86\n"
     ]
    }
   ],
   "source": [
    "#Write a Python Program to calculate your Body Mass Index?\n",
    "\n",
    "def body_mass_index(weight , height):\n",
    "    bmi = weight / (height ** 2)\n",
    "    return bmi\n",
    "weight=70\n",
    "height=1.75\n",
    "bmi=body_mass_index(weight , height)\n",
    "print(\"Your BMI is :\" , round(bmi,2))\n"
   ]
  },
  {
   "cell_type": "code",
   "execution_count": 8,
   "id": "6d2f055d",
   "metadata": {},
   "outputs": [
    {
     "name": "stdout",
     "output_type": "stream",
     "text": [
      "Natural logarithm of 5.0 is: 1.6094379124341003\n"
     ]
    }
   ],
   "source": [
    "#4. Write a Python Program to calculate the natural logarithm of any number?\n",
    "\n",
    "import math\n",
    "\n",
    "def calculate_ln(num):\n",
    "    if num > 0:\n",
    "        return math.log(num)   # Natural log\n",
    "    else:\n",
    "        return None            # Invalid input\n",
    "\n",
    "# Main program\n",
    "num = float(input(\"Enter a number: \"))\n",
    "result = calculate_ln(num)\n",
    "\n",
    "if result is not None:\n",
    "    print(\"Natural logarithm of\", num, \"is:\", result)\n",
    "else:\n",
    "    print(\"Logarithm is not defined for zero or negative numbers!\")\n"
   ]
  },
  {
   "cell_type": "code",
   "execution_count": 9,
   "id": "25d83fc2",
   "metadata": {},
   "outputs": [
    {
     "name": "stdout",
     "output_type": "stream",
     "text": [
      "Cube sum of first 4 natural numbers is: 100\n"
     ]
    }
   ],
   "source": [
    "#5. Write a Python Program for cube sum of first n natural numbers?\n",
    "\n",
    "# Function to calculate cube sum\n",
    "def cube_sum(n):\n",
    "    total = 0\n",
    "    for i in range(1, n+1):\n",
    "        total += i**3\n",
    "    return total\n",
    "\n",
    "# Main Program\n",
    "n = int(input(\"Enter a positive integer: \"))\n",
    "result = cube_sum(n)\n",
    "\n",
    "print(\"Cube sum of first\", n, \"natural numbers is:\", result)\n"
   ]
  }
 ],
 "metadata": {
  "kernelspec": {
   "display_name": "base",
   "language": "python",
   "name": "python3"
  },
  "language_info": {
   "codemirror_mode": {
    "name": "ipython",
    "version": 3
   },
   "file_extension": ".py",
   "mimetype": "text/x-python",
   "name": "python",
   "nbconvert_exporter": "python",
   "pygments_lexer": "ipython3",
   "version": "3.12.7"
  }
 },
 "nbformat": 4,
 "nbformat_minor": 5
}
