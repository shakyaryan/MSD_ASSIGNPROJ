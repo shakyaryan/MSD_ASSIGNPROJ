{
 "cells": [
  {
   "cell_type": "markdown",
   "id": "070997d6",
   "metadata": {},
   "source": [
    "Ques1-> Write a Python Program to Find the Factorial of a Number?"
   ]
  },
  {
   "cell_type": "code",
   "execution_count": 2,
   "id": "de1f121c",
   "metadata": {},
   "outputs": [
    {
     "name": "stdout",
     "output_type": "stream",
     "text": [
      "facrotial of a 4 is 24\n"
     ]
    }
   ],
   "source": [
    "num= int(input(\"Enter the Number: \"))\n",
    "factorial =1\n",
    "for i in range(1,num+1):\n",
    "    factorial = factorial*i\n",
    "\n",
    "print(f\"facrotial of a {num} is {factorial}\")\n"
   ]
  },
  {
   "cell_type": "markdown",
   "id": "33aed8f1",
   "metadata": {},
   "source": [
    "Ques-> Write a Python Program to Display the multiplication Table?\n"
   ]
  },
  {
   "cell_type": "code",
   "execution_count": 3,
   "id": "6cf2e4f8",
   "metadata": {},
   "outputs": [
    {
     "name": "stdout",
     "output_type": "stream",
     "text": [
      "6 x 1 = 6\n",
      "6 x 2 = 12\n",
      "6 x 3 = 18\n",
      "6 x 4 = 24\n",
      "6 x 5 = 30\n",
      "6 x 6 = 36\n",
      "6 x 7 = 42\n",
      "6 x 8 = 48\n",
      "6 x 9 = 54\n",
      "6 x 10 = 60\n"
     ]
    }
   ],
   "source": [
    "num= int(input(\"Enter the Number: \"))\n",
    "for i in range(1,11):\n",
    "    result = num*i\n",
    "    print(num , \"x\" ,i ,\"=\" ,result)\n"
   ]
  },
  {
   "cell_type": "markdown",
   "id": "f709a8ea",
   "metadata": {},
   "source": [
    "Ques-> Write a Python Program to Print the Fibonacci sequence?"
   ]
  },
  {
   "cell_type": "code",
   "execution_count": 4,
   "id": "a40f5687",
   "metadata": {},
   "outputs": [
    {
     "name": "stdout",
     "output_type": "stream",
     "text": [
      "0 1 1 2 3 5 "
     ]
    }
   ],
   "source": [
    "num= int(input(\"Enter the Number: \"))\n",
    "a=0\n",
    "b=1\n",
    "for i in range(num):\n",
    "    print(a, end=' ')\n",
    "    next_sum = a+b\n",
    "    a=b\n",
    "    b= next_sum\n"
   ]
  },
  {
   "cell_type": "markdown",
   "id": "6f00e818",
   "metadata": {},
   "source": [
    "Ques->  Write a Python Program to Check Armstrong Number?"
   ]
  },
  {
   "cell_type": "code",
   "execution_count": 5,
   "id": "1ddd8a79",
   "metadata": {},
   "outputs": [
    {
     "name": "stdout",
     "output_type": "stream",
     "text": [
      "True\n",
      "True\n",
      "False\n"
     ]
    }
   ],
   "source": [
    "def is_armstrong(num):\n",
    "    # Convert number to string to get digit count\n",
    "    n = len(str(num))\n",
    "    total = sum(int(digit) ** n for digit in str(num))\n",
    "    return total == num\n",
    "\n",
    "# Test cases\n",
    "print(is_armstrong(153))   # True\n",
    "print(is_armstrong(9474))  # True\n",
    "print(is_armstrong(123))   # False\n"
   ]
  },
  {
   "cell_type": "code",
   "execution_count": 7,
   "id": "d3c13811",
   "metadata": {},
   "outputs": [
    {
     "name": "stdout",
     "output_type": "stream",
     "text": [
      "Correct number you entered\n",
      "Sum of natural numbers up to 5 is: 15\n"
     ]
    }
   ],
   "source": [
    "num = int(input(\"Enter the number: \"))\n",
    "\n",
    "if num > 0:\n",
    "    print(\"Correct number you entered\")\n",
    "    total = 0\n",
    "    for i in range(1, num + 1):\n",
    "        total += i   # add i to total\n",
    "    print(\"Sum of natural numbers up to\", num, \"is:\", total)\n",
    "else:\n",
    "    print(\"Please enter correct number\")\n",
    "\n",
    "\n"
   ]
  }
 ],
 "metadata": {
  "kernelspec": {
   "display_name": "base",
   "language": "python",
   "name": "python3"
  },
  "language_info": {
   "codemirror_mode": {
    "name": "ipython",
    "version": 3
   },
   "file_extension": ".py",
   "mimetype": "text/x-python",
   "name": "python",
   "nbconvert_exporter": "python",
   "pygments_lexer": "ipython3",
   "version": "3.12.7"
  }
 },
 "nbformat": 4,
 "nbformat_minor": 5
}
