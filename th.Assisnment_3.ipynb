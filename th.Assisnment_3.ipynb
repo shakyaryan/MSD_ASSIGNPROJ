{
 "cells": [
  {
   "cell_type": "markdown",
   "id": "6657f2a5",
   "metadata": {},
   "source": [
    "#  1. Why are functions advantageous to have in your programs?\n",
    "\n",
    "\n",
    "Ans:\n",
    "\n",
    "Function are useful because they make code organized , reusable , easier to understand\n",
    "\n",
    "e.g. \n",
    "\n",
    "- a washing machine : you press one button(function)  and it does washing  , rinsing  , and  drying without repeating steps manually\n",
    "\n",
    "-  a restautant menu : instead of writing recipes again and again , the chef just calls the \"recipe function\"  whenever someone orders the dish\n",
    "\n"
   ]
  },
  {
   "cell_type": "markdown",
   "id": "c56af208",
   "metadata": {},
   "source": [
    "#  2. When does the code in a function run: when it&#39;s specified or when it&#39;s called?\n",
    "\n",
    "Ans:\n",
    "\n",
    "The code in a function runs only when it is called not when it is specified\n",
    "\n",
    "e.g. \n",
    "\n",
    "1. a tv remote : the button(function) exists , but the tv changes channel only when you press or call it\n",
    "\n",
    "2. a lift (elevator) button : the function is defined , but the lift moves only when you press the button(call)\n"
   ]
  },
  {
   "cell_type": "markdown",
   "id": "1d6f3ed8",
   "metadata": {},
   "source": []
  },
  {
   "cell_type": "markdown",
   "id": "f2ced704",
   "metadata": {},
   "source": [
    "# 3. What statement creates a function?\n",
    "\n",
    "Ans:\n",
    "\n",
    "A function is created using the def statement in python\n",
    "\n",
    "e.g.\n",
    "\n",
    "- giving a name to (a recipe) card : def pasta() means you have a recipe function for pasta\n",
    "\n",
    "- creating a Save Contact button in your phone : once defined , you can use it anytime instead of writing steps again"
   ]
  },
  {
   "cell_type": "markdown",
   "id": "6eb409ee",
   "metadata": {},
   "source": [
    "#  4. What is the difference between a function and a function call?\n",
    "\n",
    "Ans:\n",
    "\n",
    "A function is like a recipe (instruction) and a function call is when you actually use those instructions.\n",
    "\n",
    "e.g. \n",
    "\n",
    "- a cake recipe written in a book (function) , baking the cake by following it(function call)\n",
    "\n",
    "- having a phone number saved (function ) vs dialing it to talk (functioncall)"
   ]
  },
  {
   "cell_type": "markdown",
   "id": "d1fbcd7b",
   "metadata": {},
   "source": [
    "# 5. How many global scopes are there in a Python program? How many local scopes?\n",
    "\n",
    "ans:\n",
    "\n",
    "In python , there is only one global scope for the whole program , but there can be many local scopes(one for each function you can create)\n",
    "\n",
    "e.g.\n",
    "\n",
    "- A School : the school campus is one global area , but each classroom (local scope) is separate\n",
    "\n",
    "- A company : the head office is global , but every department (HR , IT , Sales) has its own local rules\n"
   ]
  },
  {
   "cell_type": "markdown",
   "id": "360a15d6",
   "metadata": {},
   "source": []
  },
  {
   "cell_type": "markdown",
   "id": "aedaeb15",
   "metadata": {},
   "source": [
    "# 6. What happens to variables in a local scope when the function call returns?\n",
    "\n",
    "Ans:\n",
    "\n",
    "When  a  function call ends , all local variable are destroyed (they stop existing)\n",
    "\n",
    "\n",
    "e.g.\n",
    "\n",
    "- A Hotel Room : guests (local variable)  stay only while booked ; once they leave, the room is empty agian\n",
    "\n",
    "- An exam Hall : students ( local variable ) are present only during exam ; after it ends the hall is cleared\n"
   ]
  },
  {
   "cell_type": "markdown",
   "id": "f88af73e",
   "metadata": {},
   "source": [
    "#  7. What is the concept of a return value? Is it possible to have a return value in an expression? \n",
    "\n",
    "Ans:\n",
    "\n",
    "A return value is the result of a function gives back after it finishes running .\n",
    "\n",
    "Yea , a return value can be used inside a expression\n",
    "\n",
    "e.g.\n",
    "\n",
    "- An ATM : You enter details (function) and it returns cash (return value) which then you can use then to buy something(expression)\n",
    "\n",
    "- A Calculator app : You Press numbers and \" add\" (function) , it returns the sum (return value)\n",
    "which can then be used in another calculation"
   ]
  },
  {
   "cell_type": "markdown",
   "id": "de756dab",
   "metadata": {},
   "source": [
    "# 8. If a function does not have a return statement, what is the return value of a call to that function?\n",
    "\n",
    "Ans: \n",
    "\n",
    "If a function has no return statement , its return value is \"none\" in python\n",
    "\n",
    "e.g.\n",
    "\n",
    "- Sending a message to a friend but they dont reply -- you still sent it , but got nnothing back(None)\n",
    "\n",
    "- Printing a document -- the printer finishes  the job but doesnt hand you anything extra(None)\n"
   ]
  },
  {
   "cell_type": "markdown",
   "id": "bd334026",
   "metadata": {},
   "source": [
    "# 9. How do you make a function variable refer to the global variable?\n",
    "\n",
    "Ans:\n",
    "\n",
    "You make a function variable refer to the variable by using the \"global keyyword\" indside the function\n",
    "\n",
    "e.g.\n",
    "\n",
    "1. A  student saying , i will use my family car ; instead of borrowing a separate one -- they point to the global car\n",
    "\n",
    "2. A shop worker using the main cash register of the store instead of keeping a small separate box\n"
   ]
  },
  {
   "cell_type": "markdown",
   "id": "797e6c50",
   "metadata": {},
   "source": [
    "# 10. What is the data type of None?\n",
    "\n",
    "Ans:\n",
    "\n",
    "The data type of `None` is **`NoneType`**.\n",
    "\n",
    "**Real-life examples:**\n",
    "\n",
    "1. An empty jar: it exists but has nothing inside — its type is “empty container” (`NoneType`).\n",
    "2. A blank page in a notebook: it’s a page (exists) but has no writing — type is `NoneType`.\n",
    "\n",
    "\n"
   ]
  },
  {
   "cell_type": "markdown",
   "id": "eb0e9980",
   "metadata": {},
   "source": [
    "\n",
    "# 11. What does the sentence import areallyourpetsnamederic do?\n",
    "\n",
    "Ans:\n",
    "\n",
    "The statement `import areallyourpetsnamederic` **imports a module** named `areallyourpetsnamederic` so you can use its functions or variables in your program.\n",
    "\n",
    "**Real-life examples:**\n",
    "\n",
    "1. Borrowing a toolbox from a neighbor — you can now use all their tools in your work.\n",
    "2. Opening a cookbook from a friend — you can use their recipes in your cooking.\n",
    "\n",
    "\n",
    "\n",
    "\n",
    "\n"
   ]
  },
  {
   "cell_type": "markdown",
   "id": "c6f2b327",
   "metadata": {},
   "source": [
    "\n",
    "\n",
    "\n",
    "\n",
    "**12. If you had a `bacon()` function in a `spam` module, how would you call it after importing `spam`?**\n",
    "You call it like this:\n",
    "\n",
    "```python\n",
    "import spam\n",
    "spam.bacon()\n",
    "```\n",
    "\n",
    "**Real-life examples:**\n",
    "\n",
    "1. Borrow a toolbox (`import spam`) and use the hammer (`bacon()`) inside it: `spam.bacon()`.\n",
    "2. Open a cookbook (`import spam`) and use the pancake recipe (`bacon()`): `spam.bacon()`.\n",
    "\n",
    "---\n",
    "\n",
    "**13. What can you do to save a program from crashing if it encounters an error?**\n",
    "Use **`try` and `except` blocks** to handle the error safely.\n",
    "\n",
    "**Real-life examples:**\n",
    "\n",
    "1. Wearing a helmet while biking — if you fall, you don’t get hurt.\n",
    "2. Putting a raincoat on before it rains — you stay dry even if it rains.\n",
    "\n",
    "---\n",
    "\n",
    "**14. What is the purpose of the `try` clause? What is the purpose of the `except` clause?**\n",
    "\n",
    "* **`try` clause:** You put code here that **might cause an error**.\n",
    "* **`except` clause:** You put code here to **handle the error** if it happens.\n",
    "\n",
    "**Real-life examples:**\n",
    "\n",
    "1. `try`: Driving a car carefully; `except`: Using brakes if a sudden obstacle appears.\n",
    "2. `try`: Cooking food; `except`: Adding salt if the taste is wrong.\n",
    "\n"
   ]
  },
  {
   "cell_type": "markdown",
   "id": "bb04537b",
   "metadata": {},
   "source": []
  }
 ],
 "metadata": {
  "kernelspec": {
   "display_name": "base",
   "language": "python",
   "name": "python3"
  },
  "language_info": {
   "codemirror_mode": {
    "name": "ipython",
    "version": 3
   },
   "file_extension": ".py",
   "mimetype": "text/x-python",
   "name": "python",
   "nbconvert_exporter": "python",
   "pygments_lexer": "ipython3",
   "version": "3.12.7"
  }
 },
 "nbformat": 4,
 "nbformat_minor": 5
}
