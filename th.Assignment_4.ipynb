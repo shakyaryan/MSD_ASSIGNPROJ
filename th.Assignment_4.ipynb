{
 "cells": [
  {
   "cell_type": "markdown",
   "id": "2ef69b0f",
   "metadata": {},
   "source": [
    "1. What exactly is []?\n",
    "\n",
    "Ans - List\n",
    "\n",
    "\n"
   ]
  },
  {
   "cell_type": "code",
   "execution_count": 3,
   "id": "2d84b5a2",
   "metadata": {},
   "outputs": [
    {
     "name": "stdout",
     "output_type": "stream",
     "text": [
      "[2, 4, 'hello', 8, 10]\n"
     ]
    }
   ],
   "source": [
    "# 2. In a list of values stored in a variable called spam, how would you assign the value &#39;hello&#39; as the\n",
    "#third value? (Assume [2, 4, 6, 8, 10] are in spam.)\n",
    "\n",
    "\n",
    "spam = [2,4,6,8,10]\n",
    "spam[2]= \"hello\"\n",
    "print(spam)\n"
   ]
  },
  {
   "cell_type": "markdown",
   "id": "5745d3f5",
   "metadata": {},
   "source": [
    "3. What is the value of spam[int(int(&#39;3&#39; * 2) / 11)]?\n",
    "\n",
    "Ans: list = [d]"
   ]
  },
  {
   "cell_type": "markdown",
   "id": "8a002e33",
   "metadata": {},
   "source": [
    "4. What is the value of spam[-1]?\n",
    "\n",
    "Ans -  d "
   ]
  },
  {
   "cell_type": "markdown",
   "id": "fee7aab9",
   "metadata": {},
   "source": [
    "5. What is the value of spam[:2]?\n",
    "\n",
    "Ans:  list = [a,b]"
   ]
  },
  {
   "cell_type": "markdown",
   "id": "9da5cdf6",
   "metadata": {},
   "source": [
    "\n",
    "6. What is the value of bacon.index(&#39;cat&#39;)?\n",
    "\n",
    "Ans: \n",
    "\n",
    "\n",
    "\n",
    "bacon = [3.14, 'cat', 11, 'cat', True]\n",
    "Look for 'cat' in the list:\n",
    "\n",
    "Index 0 → 3.14 → not 'cat'\n",
    "\n",
    "Index 1 → 'cat' → found!\n",
    "\n",
    "Since index() returns the first occurrence, the result is 1."
   ]
  },
  {
   "cell_type": "markdown",
   "id": "27b2bdf4",
   "metadata": {},
   "source": [
    "7. How does bacon.append(99) change the look of the list value in bacon?\n",
    "\n",
    "Ans:  like this ----[3.14, 'cat', 11, 'cat', True, 99]\n"
   ]
  },
  {
   "cell_type": "markdown",
   "id": "7bab12c6",
   "metadata": {},
   "source": [
    "How does bacon.remove(&#39;cat&#39;) change the look of the list in bacon?\n",
    "\n",
    "Ans: \n",
    "\n",
    "Step 1: Understand remove()\n",
    "\n",
    "Syntax:\n",
    "\n",
    "list.remove(value)\n",
    "\n",
    "\n",
    "What it does: Removes the first occurrence of value from the list.\n",
    "\n",
    "Important: Only the first matching item is removed, \n",
    "\n",
    "The list after removal becomes:\n",
    "\n",
    "[3.14, 11, 'cat', True]\n",
    "\n",
    "\n",
    "Notice: The second 'cat' (at index 3 originally) stays in the list.\n",
    "\n",
    "✅ Answer:\n",
    "\n",
    "[3.14, 11, 'cat', True]"
   ]
  },
  {
   "cell_type": "markdown",
   "id": "6cc160cd",
   "metadata": {},
   "source": []
  },
  {
   "cell_type": "markdown",
   "id": "e0829b08",
   "metadata": {},
   "source": [
    "8. How does bacon.remove(&#39;cat&#39;) change the look of the list in bacon?\n",
    "\n",
    "Ans: \n",
    "\n",
    "The remove() method searches the list from the beginning.\n",
    "\n",
    "It finds the first occurrence of the value 'cat'.\n",
    "\n",
    "It deletes that first occurrence from the list.\n",
    "\n",
    "All other occurrences of 'cat' remain unchanged.\n",
    "\n",
    "The list is modified in place; no new list is created.\n",
    "\n",
    "So, theoretically: remove() = delete first matching value in the list.\n",
    "\n"
   ]
  },
  {
   "cell_type": "markdown",
   "id": "d9294d0f",
   "metadata": {},
   "source": [
    "9. What are the list concatenation and list replication operators?\n",
    "\n",
    "Ans:\n",
    "\n",
    "1️⃣ List Concatenation (+)\n",
    "\n",
    "The + operator is used to combine two lists into a single list.\n",
    "\n",
    "It does not modify the original lists, but returns a new list.\n",
    "\n",
    "Example (theoretical):\n",
    "\n",
    "list1 + list2\n",
    "\n",
    "\n",
    "Combines list1 and list2 into one list.\n",
    "\n",
    "Explanation: Think of it as “joining” two lists together.\n",
    "\n",
    "\n",
    "\n",
    "----------------------------------------------------------------------------------------------------------------------------------------------------------\n",
    "2️⃣ List Replication (*)\n",
    "\n",
    "The * operator is used to repeat a list multiple times.\n",
    "\n",
    "It also returns a new list without modifying the original.\n",
    "\n",
    "Example (theoretical):\n",
    "\n",
    "list1 * 3\n",
    "\n",
    "\n",
    "Creates a new list where list1 is repeated 3 times consecutively.\n",
    "\n",
    "Explanation: Think of it as “copying the same list several times”.\n",
    "\n",
    "\n"
   ]
  },
  {
   "cell_type": "markdown",
   "id": "887d9c8f",
   "metadata": {},
   "source": [
    "\n",
    "### **10. What is the difference between the list methods `append()` and `insert()`?**\n",
    "\n",
    "**Answer :**\n",
    "\n",
    "* `append()` adds an element **at the end of the list**.\n",
    "* `insert()` adds an element **at a specific position** in the list, shifting other elements to the right.\n",
    "* **Key point:** `append()` is always at the tail; `insert()` allows placement anywhere.\n",
    "\n",
    "---\n",
    "\n",
    "### **11. What are the two methods for removing items from a list?**\n",
    "\n",
    "**Answer :**\n",
    "\n",
    "1. `remove(value)` → deletes the **first occurrence** of a specified value.\n",
    "2. `pop(index)` → deletes the element at a **specific index**; if no index is given, it removes the **last element**.\n",
    "\n",
    "* Optional: `del list[index]` can also remove by index.\n",
    "\n",
    "---\n",
    "\n",
    "### **12. Describe how list values and string values are identical.**\n",
    "\n",
    "**Answer :**\n",
    "\n",
    "* Both are **ordered sequences** of elements.\n",
    "* Both support **indexing** and **slicing**.\n",
    "* Both can be **iterated** in loops.\n",
    "* **Key point:** Strings behave like lists of characters.\n",
    "\n",
    "---\n",
    "\n",
    "### **13. What’s the difference between tuples and lists?**\n",
    "\n",
    "**Answer :**\n",
    "\n",
    "* Lists are **mutable**, meaning their elements can be changed.\n",
    "* Tuples are **immutable**, meaning their elements cannot be changed.\n",
    "* Lists have more built-in methods (like `append`, `remove`), while tuples have fewer methods.\n",
    "* Lists use square brackets `[ ]`, tuples use parentheses `( )`.\n",
    "\n",
    "---\n",
    "\n",
    "### **14. How do you type a tuple value that only contains the integer 42?**\n",
    "\n",
    "**Answer :**\n",
    "\n",
    "* A single-element tuple requires a **trailing comma** after the value.\n",
    "* Without the comma, it is interpreted as just the integer itself.\n",
    "* **Key point:** `(42,)` is a tuple; `(42)` is an integer.\n",
    "\n",
    "---\n",
    "\n",
    "### **15. How do you get a list value’s tuple form? How do you get a tuple value’s list form?**\n",
    "\n",
    "**Answer :**\n",
    "\n",
    "* To convert a list into a tuple, use a **type conversion** method that returns a **new tuple**.\n",
    "* To convert a tuple into a list, use a **type conversion** method that returns a **new list**.\n",
    "* **Key point:** Conversion creates a new object; original remains unchanged.\n",
    "\n",
    "---\n",
    "\n",
    "### **16. Variables that “contain” list values are not necessarily lists themselves. Instead, what do they contain?**\n",
    "\n",
    "**Answer :**\n",
    "\n",
    "* Variables contain a **reference** (memory address) to the list, not the actual list itself.\n",
    "* Multiple variables can refer to the same list; changes via one variable affect the others.\n",
    "\n",
    "---\n",
    "\n",
    "### **17. How do you distinguish between `copy.copy()` and `copy.deepcopy()`?**\n",
    "\n",
    "**Answer :**\n",
    "\n",
    "* `copy.copy()` creates a **shallow copy**, meaning only the top-level elements are copied; nested objects are shared.\n",
    "* `copy.deepcopy()` creates a **deep copy**, meaning all nested objects are fully copied and independent of the original.\n",
    "* **Key point:** Use `deepcopy` when you need **completely independent nested structures**."
   ]
  },
  {
   "cell_type": "markdown",
   "id": "0715fd78",
   "metadata": {},
   "source": []
  }
 ],
 "metadata": {
  "kernelspec": {
   "display_name": "base",
   "language": "python",
   "name": "python3"
  },
  "language_info": {
   "codemirror_mode": {
    "name": "ipython",
    "version": 3
   },
   "file_extension": ".py",
   "mimetype": "text/x-python",
   "name": "python",
   "nbconvert_exporter": "python",
   "pygments_lexer": "ipython3",
   "version": "3.12.7"
  }
 },
 "nbformat": 4,
 "nbformat_minor": 5
}
