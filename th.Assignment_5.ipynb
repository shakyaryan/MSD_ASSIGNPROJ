{
 "cells": [
  {
   "cell_type": "code",
   "execution_count": 2,
   "id": "3c2798f4",
   "metadata": {},
   "outputs": [
    {
     "name": "stdout",
     "output_type": "stream",
     "text": [
      "<class 'dict'>\n"
     ]
    }
   ],
   "source": [
    "# 1. What does an empty dictionary&#39;s code look like?\n",
    "\n",
    "empty_dictionary={}\n",
    "print(type(empty_dictionary))"
   ]
  },
  {
   "cell_type": "code",
   "execution_count": 3,
   "id": "991ce766",
   "metadata": {},
   "outputs": [
    {
     "name": "stdout",
     "output_type": "stream",
     "text": [
      "{'foo': 42}\n"
     ]
    }
   ],
   "source": [
    "#2. What is the value of a dictionary value with \n",
    "# the key &#39;foo&#39; and the value 42?\n",
    "\n",
    "dict = {'foo':42}\n",
    "print(dict)"
   ]
  },
  {
   "cell_type": "code",
   "execution_count": 4,
   "id": "31535755",
   "metadata": {},
   "outputs": [
    {
     "name": "stdout",
     "output_type": "stream",
     "text": [
      "Rahul\n",
      "88\n"
     ]
    }
   ],
   "source": [
    "#3. What is the most significant distinction between a dictionary \n",
    "#  and a list?\n",
    "\n",
    "# _ANS_:\n",
    "\n",
    "# List Example\n",
    "students = [\"Aditi\", \"Rahul\", \"Neha\"]\n",
    "print(students[1])   # Access by position → \"Rahul\"\n",
    "\n",
    "# Dictionary Example\n",
    "marks = {\"Aditi\": 95, \"Rahul\": 88, \"Neha\": 92}\n",
    "print(marks[\"Rahul\"])   # Access by key → 88\n"
   ]
  },
  {
   "cell_type": "markdown",
   "id": "51dee15c",
   "metadata": {},
   "source": [
    "| Feature        | **List**                                | **Dictionary**                                                                     |\n",
    "| -------------- | --------------------------------------- | ---------------------------------------------------------------------------------- |\n",
    "| **Definition** | Stores values in a **sequence**         | Stores data in **key : value pairs**                                               |\n",
    "| **Access**     | Accessed by **index number** (0,1,2...) | Accessed by **key name**                                                           |\n",
    "| **Order**      | Order matters (position-based)          | Keys are unique, order doesn’t matter (though modern Python keeps insertion order) |\n",
    "| **Duplicates** | Can store duplicate values              | Keys must be unique (values can repeat)                                            |\n",
    "| **Syntax**     | `list = [10, 20, 30]`                   | `dict = {\"a\": 10, \"b\": 20}`                                                        |\n",
    "| **Best Use**   | When you just need a sequence of items  | When you need to map one thing to another (like a label to value)                  |\n"
   ]
  },
  {
   "cell_type": "markdown",
   "id": "f53a76c7",
   "metadata": {},
   "source": [
    "4. What happens if you try to access spam['foo'] if spam = {'bar': 100}?\n",
    "\n",
    "Ans->  Since there is no key 'foo' in the dictionary, Python will give an error:"
   ]
  },
  {
   "cell_type": "markdown",
   "id": "75ad8d6e",
   "metadata": {},
   "source": [
    "5. If a dictionary is stored in spam, what is the difference between the expressions &#39;cat&#39; in spam and\n",
    "&#39;cat&#39; in spam.keys()?\n",
    "\n",
    "Ans-> There is no difference in result- both return true if cat is key in the dictionary"
   ]
  },
  {
   "cell_type": "markdown",
   "id": "60e4ba22",
   "metadata": {},
   "source": [
    "6. If a dictionary is stored in spam, what is the difference between the expressions &#39;cat&#39; in spam and\n",
    "&#39;cat&#39; in spam.values()?\n",
    "\n",
    "Ans-> If a dictionary is stored in spam:\n",
    "\n",
    "'cat' in spam → Checks if 'cat' is a key in the dictionary.\n",
    "\n",
    "'cat' in spam.values() → Checks if 'cat' is a value in the dictionary."
   ]
  },
  {
   "cell_type": "code",
   "execution_count": 9,
   "id": "15a04ae4",
   "metadata": {},
   "outputs": [
    {
     "name": "stdout",
     "output_type": "stream",
     "text": [
      "False\n",
      "True\n"
     ]
    }
   ],
   "source": [
    "spam = {\"animal\": \"cat\", \"age\": 5}\n",
    "\n",
    "print(\"cat\" in spam)         # False → 'cat' is not a key\n",
    "print(\"cat\" in spam.values())# True  → 'cat' is a value\n"
   ]
  },
  {
   "cell_type": "code",
   "execution_count": 12,
   "id": "96d8c419",
   "metadata": {},
   "outputs": [],
   "source": [
    "#7. What is a shortcut for the following code? if &#39;color&#39; not in \n",
    "# spam: spam[&#39;color&#39;] = &#39;black&#39\n",
    "     \n",
    "\n",
    "if 'color' not in spam:\n",
    "    spam['color'] = 'black'\n",
    "\n"
   ]
  },
  {
   "cell_type": "code",
   "execution_count": null,
   "id": "ad13c282",
   "metadata": {},
   "outputs": [
    {
     "name": "stdout",
     "output_type": "stream",
     "text": [
      "{'age': 20, 'name': 'Rahul', 'subjects': ['Math', 'Physics', 'Chemistry']}\n"
     ]
    }
   ],
   "source": [
    "#8. How do you &quot;pretty print&quot; dictionary \n",
    "# values using which module and function?\n",
    "\n",
    "#Ans->\n",
    "\n",
    "#Pretty printing means showing the dictionary in a nice,\n",
    "#  readable format, instead of all on one line.\n",
    "\n",
    "#In Python, you use the pprint module and its pprint() function.\n",
    "\n",
    "\n",
    "import pprint\n",
    "\n",
    "spam = {\n",
    "    \"name\": \"Rahul\",\n",
    "    \"age\": 20,\n",
    "    \"subjects\": [\"Math\", \"Physics\", \"Chemistry\"]\n",
    "}\n",
    "\n",
    "pprint.pprint(spam)\n",
    "\n"
   ]
  }
 ],
 "metadata": {
  "kernelspec": {
   "display_name": "base",
   "language": "python",
   "name": "python3"
  },
  "language_info": {
   "codemirror_mode": {
    "name": "ipython",
    "version": 3
   },
   "file_extension": ".py",
   "mimetype": "text/x-python",
   "name": "python",
   "nbconvert_exporter": "python",
   "pygments_lexer": "ipython3",
   "version": "3.12.7"
  }
 },
 "nbformat": 4,
 "nbformat_minor": 5
}
