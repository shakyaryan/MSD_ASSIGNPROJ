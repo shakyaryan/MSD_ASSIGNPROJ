{
 "cells": [
  {
   "cell_type": "code",
   "execution_count": 1,
   "id": "e77fc26a",
   "metadata": {},
   "outputs": [
    {
     "name": "stdout",
     "output_type": "stream",
     "text": [
      "LCM is : 36\n"
     ]
    }
   ],
   "source": [
    "#1. Write a Python Program to Find LCM?\n",
    "\n",
    "num1 = int(input(\"Enter the first number:\"))\n",
    "num2 = int(input(\"Enter the second number:\"))\n",
    "max_num = max(num1 , num2)\n",
    "\n",
    "while True:\n",
    "    if max_num % num1 == 0 and max_num % num2 == 0:\n",
    "        lcm = max_num\n",
    "        break\n",
    "    max_num = max_num+1\n",
    "\n",
    "print(\"LCM is :\" , lcm)"
   ]
  },
  {
   "cell_type": "code",
   "execution_count": 2,
   "id": "b3207200",
   "metadata": {},
   "outputs": [
    {
     "name": "stdout",
     "output_type": "stream",
     "text": [
      "LCM is: 36\n"
     ]
    }
   ],
   "source": [
    "import math\n",
    "\n",
    "a = 12\n",
    "b = 18\n",
    "\n",
    "gcd = math.gcd(a, b)         # Step 1: find GCD\n",
    "lcm = (a * b) // gcd         # Step 2: calculate LCM using formula\n",
    "\n",
    "print(\"LCM is:\", lcm)\n"
   ]
  },
  {
   "cell_type": "code",
   "execution_count": null,
   "id": "218dfc34",
   "metadata": {},
   "outputs": [
    {
     "name": "stdout",
     "output_type": "stream",
     "text": [
      "HCF is: 15\n"
     ]
    }
   ],
   "source": [
    "#2. Write a Python Program to Find HCF?\n",
    "\n",
    "\n",
    "a = 30\n",
    "b = 45\n",
    "\n",
    "# Step 1: find the smaller number\n",
    "min_num = min(a, b)\n",
    "\n",
    "# Step 2: start loop from min_num down to 1\n",
    "for i in range(min_num, 0, -1):\n",
    "    if a % i == 0 and b % i == 0:  # check if i divides both numbers\n",
    "        hcf = i\n",
    "        break  # stop when HCF is found\n",
    "\n",
    "print(\"HCF is:\", hcf)\n"
   ]
  },
  {
   "cell_type": "code",
   "execution_count": 5,
   "id": "6f7b9f46",
   "metadata": {},
   "outputs": [
    {
     "name": "stdout",
     "output_type": "stream",
     "text": [
      "HCF is: 15\n"
     ]
    }
   ],
   "source": [
    "import math  # import math module\n",
    "\n",
    "a = 30\n",
    "b = 45\n",
    "\n",
    "hcf = math.gcd(a, b)  # math.gcd finds HCF\n",
    "print(\"HCF is:\", hcf)\n"
   ]
  },
  {
   "cell_type": "code",
   "execution_count": null,
   "id": "5a0c5b29",
   "metadata": {},
   "outputs": [
    {
     "name": "stdout",
     "output_type": "stream",
     "text": [
      "0b110000 <built-in function oct> 0x30\n"
     ]
    }
   ],
   "source": [
    "# 3. Write a Python Program to Convert Decimal to Binary, \n",
    "# Octal and Hexadecimal?\n",
    "\n"
   ]
  },
  {
   "cell_type": "code",
   "execution_count": 8,
   "id": "da609207",
   "metadata": {},
   "outputs": [
    {
     "name": "stdout",
     "output_type": "stream",
     "text": [
      "Binary: 0b101101\n",
      "Octal: 0o55\n",
      "Hexadecimal: 0x2d\n"
     ]
    }
   ],
   "source": [
    "num = int(input(\"Enter a decimal number: \"))\n",
    "\n",
    "binary = bin(num)\n",
    "octal = oct(num)\n",
    "hexadecimal = hex(num)\n",
    "\n",
    "print(\"Binary:\", binary)\n",
    "print(\"Octal:\", octal)\n",
    "print(\"Hexadecimal:\", hexadecimal)\n"
   ]
  },
  {
   "cell_type": "code",
   "execution_count": 9,
   "id": "578cf54b",
   "metadata": {},
   "outputs": [
    {
     "name": "stdout",
     "output_type": "stream",
     "text": [
      "ASCII value of y is 121\n"
     ]
    }
   ],
   "source": [
    "# 4. Write a Python Program To Find ASCII value of a character?\n",
    "\n",
    "\n",
    "# Python Program to Find ASCII value of a Character\n",
    "\n",
    "# Take input from the user\n",
    "char = input(\"Enter a character: \")[0]  # [0] ensures only the first character is taken\n",
    "\n",
    "# Find ASCII value using ord()\n",
    "ascii_value = ord(char)\n",
    "\n",
    "# Print the result\n",
    "print(\"ASCII value of\", char, \"is\", ascii_value)\n"
   ]
  },
  {
   "cell_type": "code",
   "execution_count": 12,
   "id": "df5c1527",
   "metadata": {},
   "outputs": [
    {
     "name": "stdout",
     "output_type": "stream",
     "text": [
      "Result: 26.0\n"
     ]
    }
   ],
   "source": [
    "#5. Write a Python Program to Make a Simple Calculator with 4 basic mathematical operations?\n",
    "\n",
    "\n",
    "# Simple Calculator Program\n",
    "\n",
    "num1 = float(input(\"Enter first number: \"))\n",
    "num2 = float(input(\"Enter second number: \"))\n",
    "operation = input(\"Enter operation (+, -, *, /): \")\n",
    "\n",
    "if operation == '+':\n",
    "    result = num1 + num2\n",
    "elif operation == '-':\n",
    "    result = num1 - num2\n",
    "elif operation == '*':\n",
    "    result = num1 * num2\n",
    "elif operation == '/':\n",
    "    if num2 != 0:\n",
    "        result = num1 / num2\n",
    "    else:\n",
    "        result = \"Error! Division by zero.\"\n",
    "else:\n",
    "    result = \"Invalid operation\"\n",
    "\n",
    "print(\"Result:\", result)\n"
   ]
  }
 ],
 "metadata": {
  "kernelspec": {
   "display_name": "base",
   "language": "python",
   "name": "python3"
  },
  "language_info": {
   "codemirror_mode": {
    "name": "ipython",
    "version": 3
   },
   "file_extension": ".py",
   "mimetype": "text/x-python",
   "name": "python",
   "nbconvert_exporter": "python",
   "pygments_lexer": "ipython3",
   "version": "3.12.7"
  }
 },
 "nbformat": 4,
 "nbformat_minor": 5
}
